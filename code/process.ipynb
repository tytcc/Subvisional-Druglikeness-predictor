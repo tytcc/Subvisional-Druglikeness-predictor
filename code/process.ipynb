{
 "cells": [
  {
   "cell_type": "code",
   "execution_count": 15,
   "metadata": {},
   "outputs": [
    {
     "name": "stdout",
     "output_type": "stream",
     "text": [
      "0.8217252396166135\n",
      "0.6266640133787971\n",
      "0.8550229856348495\n",
      "0.8766375977196399\n"
     ]
    }
   ],
   "source": [
    "import joblib\n",
    "metric_list = ['acc','mcc','f1','auc']\n",
    "import numpy as np\n",
    "for metric in metric_list:\n",
    "    phase = ''\n",
    "    ans=[]\n",
    "    for i in range(5):\n",
    "        data = joblib.load('../pipeline/al_ensemble_s/fold_'+str(i)+'/0/'+phase+metric)\n",
    "        iteration=-1\n",
    "        ans.append(data[iteration][0])\n",
    "    print(np.array(ans).mean())\n",
    "    # print(np.array(ans).std())"
   ]
  },
  {
   "cell_type": "code",
   "execution_count": 11,
   "metadata": {},
   "outputs": [
    {
     "data": {
      "text/plain": [
       "[0.7933972310969116,\n",
       " 0.8168264110756124,\n",
       " 0.8093716719914803,\n",
       " 0.8072417465388712,\n",
       " 0.7965921192758253]"
      ]
     },
     "execution_count": 11,
     "metadata": {},
     "output_type": "execute_result"
    }
   ],
   "source": [
    "ans\n"
   ]
  }
 ],
 "metadata": {
  "kernelspec": {
   "display_name": "Python 3.8.13 ('chemprop')",
   "language": "python",
   "name": "python3"
  },
  "language_info": {
   "codemirror_mode": {
    "name": "ipython",
    "version": 3
   },
   "file_extension": ".py",
   "mimetype": "text/x-python",
   "name": "python",
   "nbconvert_exporter": "python",
   "pygments_lexer": "ipython3",
   "version": "3.8.13"
  },
  "orig_nbformat": 4,
  "vscode": {
   "interpreter": {
    "hash": "71f337bf0e3f0784e3882505a6e900d4cc0a4a77b43b3b940aafafd03597a1a6"
   }
  }
 },
 "nbformat": 4,
 "nbformat_minor": 2
}
